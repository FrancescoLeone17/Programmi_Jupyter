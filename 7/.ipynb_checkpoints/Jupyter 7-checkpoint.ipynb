{
 "cells": [
  {
   "cell_type": "markdown",
   "metadata": {},
   "source": [
    "# Esercitazione 7\n",
    "## MonteCarlo NVT\n",
    "## Spiegazione programma Monte_Carlo_NVT.cpp\n",
    "Nel programma è stato aggiunto la stima della funzione di distrobuzione radiale $g(r)$, in particolare l'intervallo $[0, L/2]$ viene affettato in 100 bin e calcolato il valore della $g(r)$ sull'intervallo . Nella funzione measure c'è l'accumulo della $g(r)$, mentre in **Averages** c'è la scrittura su file.\n",
    "\n",
    "Ci sono due file di output per la $g(r)$:\n",
    "- \"output.gofr.0\",  a ogni blocco viene scritta la $g(r)$ e lasciati due spazi vuoti in modo da separare $g(r)$ calcolate a blocchi diversi.  \n",
    "- \"output.gave.0\", alla fine della simulazione viene scritta la media cumulativa della $g(r)$ ad ogni r (bin) con relativi errori. "
   ]
  },
  {
   "cell_type": "markdown",
   "metadata": {},
   "source": [
    "### Funzione di autocorrelazione di U/N e P"
   ]
  },
  {
   "cell_type": "code",
   "execution_count": null,
   "metadata": {},
   "outputs": [],
   "source": [
    "import numpy as np #np.loadtxt\n",
    "import matplotlib\n",
    "import matplotlib.pyplot as plt\n",
    "\n",
    "def CHI(SUM): \n",
    "    return (SUM[0] - SUM[1] * SUM[2]) / (SUM[3] - SUM[4])\n",
    "\n",
    "def AutoCorr(PROP,TMAX,TCHI,DELTA):\n",
    "    chi = np.zeros(int(TCHI/DELTA))\n",
    "    for t in range(0,TCHI,DELTA):\n",
    "        summ = np.zeros(5)\n",
    "    \n",
    "        for t1 in range(TMAX):\n",
    "            summ[3] += PROP[t1]**2\n",
    "            summ[4] += PROP[t1]\n",
    "    \n",
    "            if t1 < TMAX -t:\n",
    "                t2 = t + t1\n",
    "                summ[0] += PROP[t1] * PROP[t2]\n",
    "                summ[1] += PROP[t1]\n",
    "                summ[2] += PROP[t2]\n",
    "    \n",
    "        summ[0] /= TMAX - t\n",
    "        summ[1] /= TMAX - t\n",
    "        summ[2] /= TMAX - t\n",
    "        summ[3] /= TMAX\n",
    "        summ[4] /= TMAX\n",
    "        summ[4]  *= summ[4]\n",
    "    \n",
    "        chi[int(t/DELTA)] = CHI(summ)\n",
    "    \n",
    "    return chi\n",
    "\n",
    "#Input\n",
    "tmax = 200000              #Numero di step MC\n",
    "tchi = 50                #fino a che t campiono la chi\n",
    "delta = 1              #Ogni quanti step MC calcolo la funz di autocorr\n",
    "point = int(tchi/delta)    #Numero di punti della funzione di autocorr\n",
    "\n",
    "#Energia Input\n",
    "file_data = np.loadtxt('output.epot.0', usecols=(1))\n",
    "epot = file_data[:]\n",
    "#En Autocorr\n",
    "chi_epot = np.zeros(point)\n",
    "chi_epot = AutoCorr(epot,tmax,tchi,delta)\n",
    "\n",
    "#Pressione Input\n",
    "file_data = np.loadtxt('output.pres.0', usecols=(1))\n",
    "pres = file_data[:]\n",
    "#Press Autocorr\n",
    "chi_pres = np.zeros(point)\n",
    "chi_pres = AutoCorr(pres,tmax,tchi,delta)\n",
    "\n",
    "\"\"\"\n",
    "#plot autoccor func  \n",
    "x = np.arange(point)\n",
    "x *= delta\n",
    "plt.plot(x,chi_epot)\n",
    "plt.plot(x,chi_pres)\n",
    "plt.title('Funzione di Autocorrelazione: Fase gas')\n",
    "plt.legend(['Epot','Pres'], loc='best')\n",
    "plt.xlabel('t')\n",
    "plt.ylabel('chi(t)')\n",
    "#plt.savefig('Pictures/gas/fz_autocorr', dpi=300)\n",
    "plt.grid(True)\n",
    "plt.show()\n",
    "\"\"\""
   ]
  },
  {
   "cell_type": "markdown",
   "metadata": {},
   "source": [
    "# Grafici funzione di autocorrelazione\n",
    "Per tutti i grafici della funzione di autocorrelazione sono stati usati i seguenti dati:  \n",
    "- Numero di blocchi = 200000  \n",
    "- Step per blocco = 1\n",
    "<img src=\"./Pictures/solid/fz_autocorr.png\" alt=\"Drawing\" style=\"width: 500px;\"/>\n",
    "Le due curve si sovrappongono, decadono esponenzialmente e per t=60 (tempo di correlazione) vanno a 0.\n",
    "<img src=\"./Pictures/liquid/fz_autocorr.png\" alt=\"Drawing\" style=\"width: 500px;\"/>\n",
    "Le due curve si sovrappongono nel tratto iniziale e quando si avvicinano allo zero, decadono esponenzialmente e per t=150 (tempo di correlazione) vanno a 0. \n",
    "<img src=\"./Pictures/gas/fz_autocorr.png\" alt=\"Drawing\" style=\"width: 500px;\"/>\n",
    "La curva della pressione va a 0 per t=8 (tempo di correlazione), mentre quella dell'energia potenziale per t=20 (tempo di correlazione). Da qui si comprende che il tempo di correlazione è qualcosa che dipende dalla proprietà che viene calcolata.\n",
    "\n",
    "Abbiamo trovato i tempi di correlazione per le diverse fasi e proprietà, per quanto riguardo la scelta della lunghezza di blocco conviene scegliere un multiplo intero del tempo di correlazione. "
   ]
  },
  {
   "cell_type": "markdown",
   "metadata": {},
   "source": [
    "## Errore del valore di aspettazione di U / N e P in funzione di blocchi di diversa lunghezza  (Tecnica del data blocking)"
   ]
  },
  {
   "cell_type": "code",
   "execution_count": 9,
   "metadata": {},
   "outputs": [
    {
     "data": {
      "image/png": "[encoded data removed]",
      "text/plain": [
       "<Figure size 432x288 with 1 Axes>"
      ]
     },
     "metadata": {
      "needs_background": "light"
     },
     "output_type": "display_data"
    },
    {
     "name": "stdout",
     "output_type": "stream",
     "text": [
      "Epot error:\n",
      "0.0002720071412573214\n",
      "Pres error:\n",
      "2.4540435055879863e-05\n"
     ]
    }
   ],
   "source": [
    "import matplotlib\n",
    "import matplotlib.pyplot as plt\n",
    "import numpy as np\n",
    "import math\n",
    "\n",
    "def error(AV,AV2,S):  # Function for statistical uncertainty estimation\n",
    "    return math.sqrt((AV2 - AV**2) / (S - 1))\n",
    "\n",
    "def blocking(PROP,N,L):\n",
    "    ave = 0\n",
    "    av2 = 0\n",
    "    ERR = np.zeros(12)\n",
    "    \n",
    "    for j in range(12):        #Ciclo su diverse lg di blocco\n",
    "        sum_prog = 0\n",
    "        su2_prog = 0\n",
    "    \n",
    "        for i in range( int(N[j]) ):  #Ciclo sui blocchi\n",
    "            sum = 0\n",
    "    \n",
    "            for z in range( int(L[j]) ):   #Ciclo all'interno del blocco\n",
    "                k = i * int(L[j]) + z\n",
    "                sum += PROP[k]\n",
    "        \n",
    "            ave = sum / int(L[j])     \n",
    "            av2 = (ave)**2  \n",
    "            sum_prog += ave \n",
    "            su2_prog += av2\n",
    "        \n",
    "        #Errore\n",
    "        sum_prog /= N[j] # Cumulative average\n",
    "        su2_prog /= N[j] # Cumulative square average \n",
    "        ERR[j] = error(sum_prog, su2_prog, int(N[j]) )       \n",
    "    \n",
    "    return ERR\n",
    "        \n",
    "#Lung e Numero di Blocchi\n",
    "file_data1 = np.loadtxt('lg_blocchi', usecols=(0))\n",
    "L = file_data1[:]\n",
    "N = 200000 / L\n",
    "\n",
    "#input Energia\n",
    "file_data = np.loadtxt('output.epot.0', usecols=(1))\n",
    "epot = file_data[:]\n",
    "err_epot = np.zeros(12)\n",
    "err_epot = blocking(epot,N,L)\n",
    "\n",
    "#input Pressione\n",
    "file_data = np.loadtxt('output.pres.0', usecols=(1))\n",
    "pres = file_data[:]\n",
    "err_pres = np.zeros(12)\n",
    "err_pres = blocking(pres,N,L)\n",
    "\n",
    "\n",
    "plt.plot(L,err_epot)\n",
    "plt.plot(L,err_pres)\n",
    "plt.title('Errore vs lunghezza di blocco')\n",
    "plt.legend(['Epot','Pres'], loc='best')\n",
    "plt.xlim([0,2000])\n",
    "plt.xlabel('L')\n",
    "plt.ylabel('sigma')\n",
    "plt.grid(True)\n",
    "#plt.savefig('Pictures/gas/sigma_vs_lblk', dpi=300)\n",
    "plt.show()\n",
    "print('Epot error:')\n",
    "print(err_epot[5])\n",
    "print('Pres error:')\n",
    "print(err_pres[5])"
   ]
  },
  {
   "cell_type": "markdown",
   "metadata": {},
   "source": [
    "### Grafici: Errore del valore di aspettazione di U / N e P in funzione di blocchi di diversa lunghezza  (Tecnica del data blocking)\n",
    "Per tutti i grafici (in questo riquadro) sono stati usati i seguenti dati:  \n",
    "- Numero di blocchi = 200000  \n",
    "- Step per blocco = 1\n",
    "\n",
    "## Fase solida\n",
    "<img src=\"./Pictures/solid/sigma_vs_lblk.png\" alt=\"Drawing\" style=\"width: 500px;\"/>\n",
    "Stima errore epot:  0.0008303685519170449\n",
    "\n",
    "Stima errore pres:  0.004563937487953673  \n",
    "\n",
    "## Fase liquida\n",
    "<img src=\"./Pictures/liquid/sigma_vs_lblk.png\" alt=\"Drawing\" style=\"width: 500px;\"/>\n",
    "Stima errore epot:  0.001414487220351367  \n",
    "\n",
    "Stima errore pres:  0.007096978453774073\n",
    "\n",
    "## Fase gas\n",
    "<img src=\"./Pictures/gas/sigma_vs_lblk.png\" alt=\"Drawing\" style=\"width: 500px;\"/>\n",
    "Stima errore epot:  0.0002720071412573214\n",
    "\n",
    "Stima errore pres:  2.4540435055879863e-05\n",
    "\n",
    "In tutti e tre le fasi l'errore sale inizialmente per poi diventare approssimativamente costante, significa che da una certa lunghezza di blocco in poi le variabili di blocco sono indipendenti e l'errore non cambia."
   ]
  },
  {
   "cell_type": "markdown",
   "metadata": {},
   "source": [
    "# Valori medi e incertezze statistiche "
   ]
  },
  {
   "cell_type": "code",
   "execution_count": null,
   "metadata": {},
   "outputs": [],
   "source": [
    "import numpy as np\n",
    "import matplotlib\n",
    "import matplotlib.pyplot as plt\n",
    "\n",
    "nblk = 100\n",
    "nstep = 1000\n",
    "e = 1.656778224 * 10**(-21)\n",
    "p = 4.215 * 10**(6)\n",
    "\n",
    "ave = np.zeros(nblk)    \n",
    "err = np.zeros(nblk)\n",
    "file_data = np.loadtxt('output.epot.0', usecols=(0,1,2,3))\n",
    "ave = file_data[:,2] * p\n",
    "err = file_data[:,3] * p\n",
    "\n",
    "\"\"\"\n",
    "x = np.arange(nblk)\n",
    "plt.errorbar(x,ave,yerr=err)\n",
    "#plt.errorbar(x,ave2,yerr=err2)\n",
    "plt.title(' Energia potenziale: Fase solida ')\n",
    "#plt.ylabel('P')\n",
    "plt.ylabel('U/N')\n",
    "plt.xlabel('nblk')\n",
    "#plt.legend(['Ekin','Epot','Etot'], loc='best')\n",
    "#plt.legend(['10'], loc='best')\n",
    "#plt.xlim([0, 5000])\n",
    "#plt.ylim([-7.5825, -7.57])\n",
    "plt.grid(True)\n",
    "plt.savefig('Pictures/solid/epot', dpi=300)\n",
    "plt.show()\n",
    "\"\"\""
   ]
  },
  {
   "cell_type": "markdown",
   "metadata": {},
   "source": [
    "# Funzione di distribuzione radiale"
   ]
  },
  {
   "cell_type": "code",
   "execution_count": 19,
   "metadata": {},
   "outputs": [
    {
     "data": {
      "image/png": "[encoded data removed]",
      "text/plain": [
       "<Figure size 432x288 with 1 Axes>"
      ]
     },
     "metadata": {
      "needs_background": "light"
     },
     "output_type": "display_data"
    }
   ],
   "source": [
    "import numpy as np\n",
    "import matplotlib\n",
    "import matplotlib.pyplot as plt\n",
    "\n",
    "ngrid = 100\n",
    "sigma = 0.34 * 10**(-9)\n",
    "\n",
    "r = np.zeros(ngrid)\n",
    "ave_mol = np.zeros(ngrid)    \n",
    "err_mol = np.zeros(ngrid)\n",
    "file_data = np.loadtxt('gave_Molecular.out', usecols=(0,1,2))\n",
    "ave_mol = file_data[:,1] \n",
    "err_mol = file_data[:,2] \n",
    "\n",
    "ave_monte = np.zeros(ngrid)    \n",
    "err_monte = np.zeros(ngrid)\n",
    "file_data = np.loadtxt('output.gave.0', usecols=(0,1,2))\n",
    "ave_monte = file_data[:,1] \n",
    "err_monte = file_data[:,2]\n",
    "r = file_data[:,0]\n",
    "\n",
    "plt.errorbar(r,ave_mol,yerr=err_mol)\n",
    "plt.errorbar(r,ave_monte,yerr=err_monte)\n",
    "plt.title(' Funzione di distribuzione radiale: Fase gas ')\n",
    "plt.ylabel('g(r)')\n",
    "plt.xlabel('r')\n",
    "plt.legend(['Molecular','MonteCarlo'], loc='best')\n",
    "#plt.legend(['10'], loc='best')\n",
    "#plt.xlim([0, 5000])\n",
    "#plt.ylim([-7.5825, -7.57])\n",
    "plt.grid(True)\n",
    "#plt.savefig('Pictures/gas/confronto_gave', dpi=300)\n",
    "plt.show()"
   ]
  },
  {
   "cell_type": "markdown",
   "metadata": {},
   "source": [
    "# Fase solida \n",
    "## $\\rho^* = 1.1$,  $T^* = 0.8$, $r_c = 2.2$ \n",
    "MonteCarlo run: 100 blocchi da 1000.\n",
    "\n",
    "<img src=\"./Pictures/solid/epot.png\" alt=\"Drawing\" style=\"width: 500px;\"/>\n",
    "<img src=\"./Pictures/solid/pres.png\" alt=\"Drawing\" style=\"width: 500px;\"/>\n",
    "<img src=\"./Pictures/solid/confronto_gave.png\" alt=\"Drawing\" style=\"width: 500px;\"/>\n",
    " Molecular Dynamics run: 20 blocchi da 1000.  \n",
    "\n",
    "Le funzioni di distribuzione radiale si sovrappongono esattamente."
   ]
  },
  {
   "cell_type": "markdown",
   "metadata": {},
   "source": [
    "# Fase liquida\n",
    "## $\\rho^* = 0.8 $,  $T^* = 1.1 $, $r_c = 2.5$ \n",
    "<img src=\"./Pictures/liquid/epot.png\" alt=\"Drawing\" style=\"width: 500px;\"/>\n",
    "<img src=\"./Pictures/liquid/pres.png\" alt=\"Drawing\" style=\"width: 500px;\"/>\n",
    "<img src=\"./Pictures/liquid/confronto_gave.png\" alt=\"Drawing\" style=\"width: 500px;\"/>\n",
    "Le funzioni di distribuzione radiale si sovrappongono esattamente."
   ]
  },
  {
   "cell_type": "markdown",
   "metadata": {},
   "source": [
    "# Fase gas\n",
    "## $\\rho^* = 0.05 $,  $T^* = 1.2 $, $r_c = 5.0 $\n",
    "<img src=\"./Pictures/gas/epot.png\" alt=\"Drawing\" style=\"width: 500px;\"/>\n",
    "<img src=\"./Pictures/gas/pres.png\" alt=\"Drawing\" style=\"width: 500px;\"/>\n",
    "<img src=\"./Pictures/gas/confronto_gave.png\" alt=\"Drawing\" style=\"width: 500px;\"/>\n",
    "Le funzioni di distribuzione radiale si sovrappongono in una e a volte due deviazioni standard."
   ]
  }
 ],
 "metadata": {
  "kernelspec": {
   "display_name": "Python 3",
   "language": "python",
   "name": "python3"
  },
  "language_info": {
   "codemirror_mode": {
    "name": "ipython",
    "version": 3
   },
   "file_extension": ".py",
   "mimetype": "text/x-python",
   "name": "python",
   "nbconvert_exporter": "python",
   "pygments_lexer": "ipython3",
   "version": "3.7.6"
  }
 },
 "nbformat": 4,
 "nbformat_minor": 4
}
