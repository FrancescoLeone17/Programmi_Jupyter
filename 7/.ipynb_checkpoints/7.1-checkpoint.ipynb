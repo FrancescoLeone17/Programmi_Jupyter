{
 "cells": [
  {
   "cell_type": "code",
   "execution_count": 12,
   "metadata": {},
   "outputs": [
    {
     "data": {
      "image/png": "[encoded data removed]",
      "text/plain": [
       "<Figure size 432x288 with 1 Axes>"
      ]
     },
     "metadata": {
      "needs_background": "light"
     },
     "output_type": "display_data"
    }
   ],
   "source": [
    "import numpy as np #np.loadtxt\n",
    "import matplotlib\n",
    "import matplotlib.pyplot as plt\n",
    "\n",
    "def CHI(SUM): \n",
    "    return (SUM[0] - SUM[1] * SUM[2]) / (SUM[3] - SUM[4])\n",
    "\n",
    "def AutoCorr(PROP,TMAX,TCHI,DELTA):\n",
    "    chi = np.zeros(int(TCHI/DELTA))\n",
    "    for t in range(0,TCHI,DELTA):\n",
    "        summ = np.zeros(5)\n",
    "    \n",
    "        for t1 in range(TMAX):\n",
    "            summ[3] += PROP[t1]**2\n",
    "            summ[4] += PROP[t1]\n",
    "    \n",
    "            if t1 < TMAX -t:\n",
    "                t2 = t + t1\n",
    "                summ[0] += PROP[t1] * PROP[t2]\n",
    "                summ[1] += PROP[t1]\n",
    "                summ[2] += PROP[t2]\n",
    "    \n",
    "        summ[0] /= TMAX - t\n",
    "        summ[1] /= TMAX - t\n",
    "        summ[2] /= TMAX - t\n",
    "        summ[3] /= TMAX\n",
    "        summ[4] /= TMAX\n",
    "        summ[4]  *= summ[4]\n",
    "    \n",
    "        chi[int(t/DELTA)] = CHI(summ)\n",
    "    \n",
    "    return chi\n",
    "\n",
    "#Input\n",
    "tmax = 200000              #Numero di step MC\n",
    "tchi = 500                 #fino a che t campiono la chi\n",
    "delta = 1                  #Ogni quanti step MC calcolo la funz di autocorr\n",
    "point = int(tchi/delta)    #Numero di punti della funzione di autocorr\n",
    "\n",
    "#Energia Input\n",
    "file_data = np.loadtxt('./output.epot.0', usecols=(1))\n",
    "epot = file_data[:]\n",
    "#En Autocorr\n",
    "chi_epot = np.zeros(point)\n",
    "chi_epot = AutoCorr(epot,tmax,tchi,delta)\n",
    "\n",
    "#Pressione Input\n",
    "file_data = np.loadtxt('./output.pres.0', usecols=(1))\n",
    "pres = file_data[:]\n",
    "#Press Autocorr\n",
    "chi_pres = np.zeros(point)\n",
    "chi_pres = AutoCorr(pres,tmax,tchi,delta)\n",
    "\n",
    "#plot autoccor func  \n",
    "x = np.arange(point)\n",
    "x *= delta\n",
    "plt.plot(x,chi_epot)\n",
    "plt.plot(x,chi_pres)\n",
    "plt.xlabel('t')\n",
    "plt.ylabel('chi(t)')\n",
    "plt.grid(True)\n",
    "plt.show()"
   ]
  },
  {
   "cell_type": "code",
   "execution_count": null,
   "metadata": {},
   "outputs": [],
   "source": []
  }
 ],
 "metadata": {
  "kernelspec": {
   "display_name": "Python 3",
   "language": "python",
   "name": "python3"
  },
  "language_info": {
   "codemirror_mode": {
    "name": "ipython",
    "version": 3
   },
   "file_extension": ".py",
   "mimetype": "text/x-python",
   "name": "python",
   "nbconvert_exporter": "python",
   "pygments_lexer": "ipython3",
   "version": "3.7.6"
  }
 },
 "nbformat": 4,
 "nbformat_minor": 4
}
