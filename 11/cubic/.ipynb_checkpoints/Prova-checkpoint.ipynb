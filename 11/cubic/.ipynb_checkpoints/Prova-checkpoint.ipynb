{
 "cells": [
  {
   "cell_type": "markdown",
   "metadata": {},
   "source": [
    "# Trial "
   ]
  },
  {
   "cell_type": "markdown",
   "metadata": {},
   "source": [
    "## Discussione riguardo la complessità\n",
    "\n",
    "### Grafici della prima rete neurale\n",
    "La rete è costituita da 5 layer:  \n",
    "- Primo layer: 50 neuroni  \n",
    "- Secondo layer: 30 neuroni  \n",
    "- Terzo layer: 20 neuroni  \n",
    "- Quarto layer: 10 neuroni  \n",
    "- Quinto layer: 1 neurone  \n",
    "Per ogni layer la funzione di attivazione è 'softplus'.  \n",
    "## ntrain variabile, epoch=200, sigma=0.25  \n",
    "<img src=\"Fit_ntr=1000_sigma=0.25_Epoch=200_1NN.png\" alt=\"Drawing\" style=\"width: 500px;\"/>\n",
    "<img src=\"Fit_ntr=2000_sigma=0.25_Epoch=200_1NN.png\" alt=\"Drawing\" style=\"width: 500px;\"/>\n",
    "<img src=\"Fit_ntr=5000_sigma=0.25_Epoch=200_1NN.png\" alt=\"Drawing\" style=\"width: 500px;\"/>\n",
    "\n",
    "### Grafici della seconda rete neurale\n",
    "La rete è costituita da 3 layer:  \n",
    "- Primo layer: 20 neuroni, funzione di attivazione 'softplus'  \n",
    "- Secondo layer: 20 neuroni, funzione di attivazione 'elu'   \n",
    "- Terzo layer: 1 neurone, funzione di attivazione 'softplus'      \n",
    "## ntrain variabile, epoch=200, sigma=0.25  \n",
    "<img src=\"Fit_ntr=1000_sigma=0.25_Epoch=200_2NN.png\" alt=\"Drawing\" style=\"width: 500px;\"/>\n",
    "<img src=\"Fit_ntr=2000_sigma=0.25_Epoch=200_2NN.png\" alt=\"Drawing\" style=\"width: 500px;\"/>\n",
    "<img src=\"Fit_ntr=5000_sigma=0.25_Epoch=200_2NN.png\" alt=\"Drawing\" style=\"width: 500px;\"/>"
   ]
  }
 ],
 "metadata": {
  "kernelspec": {
   "display_name": "Python 3",
   "language": "python",
   "name": "python3"
  },
  "language_info": {
   "codemirror_mode": {
    "name": "ipython",
    "version": 3
   },
   "file_extension": ".py",
   "mimetype": "text/x-python",
   "name": "python",
   "nbconvert_exporter": "python",
   "pygments_lexer": "ipython3",
   "version": "3.7.6"
  }
 },
 "nbformat": 4,
 "nbformat_minor": 4
}
