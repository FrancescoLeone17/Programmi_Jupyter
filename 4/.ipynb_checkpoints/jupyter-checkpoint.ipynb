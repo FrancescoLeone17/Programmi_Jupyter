{
 "cells": [
  {
   "cell_type": "markdown",
   "metadata": {},
   "source": [
    "# Esercitazione 4\n",
    "## Spiegazione programma MolDyn_NVE.cpp\n",
    "Per compilare il programma basta fare g++ MolDyn_NVE.cpp. \n",
    "\n",
    "Le modifiche apportate al programma sono:\n",
    "- aggiunta di variabili di blocco per le proprietà da calcolare (struttura analoga ai programmi precedenti)\n",
    "- introduzione del restart nella funzione \"Input\", nel caso in cui si attribuisca alla variabile 'rst' un valore diverso da 1 il programma parte con il restart.\n",
    "\n",
    "Nel caso si volesse far iniziare il programma con il restart basta modificare il parametro rst e eseguire lo script \"restart.sh\"."
   ]
  },
  {
   "cell_type": "code",
   "execution_count": 3,
   "metadata": {
    "scrolled": true
   },
   "outputs": [],
   "source": [
    "import numpy as np\n",
    "import matplotlib\n",
    "import matplotlib.pyplot as plt\n",
    "\n",
    "nstep = 10000\n",
    "nblk = 20\n",
    "\n",
    "\n",
    "#Constants\n",
    "m=39.948  #T/m\n",
    "sigma = 0.34 #\n",
    "e_kb = 120\n",
    "kb = 1.38 * 10**(-23)\n",
    "e = e_kb*kb\n",
    "\n",
    "ekin = np.zeros(nblk)    \n",
    "epot = np.zeros(nblk)\n",
    "etot = np.zeros(nblk)\n",
    "temp = np.zeros(nblk)\n",
    "err = np.zeros(nblk)\n",
    "\n",
    "file_data = np.loadtxt('ave_temp.out', usecols=(0,1,2,3))\n",
    "file_data2 = np.loadtxt('ave_ekin.out', usecols=(0,1,2,3))\n",
    "file_data3 = np.loadtxt('ave_epot.out', usecols=(0,1,2,3))\n",
    "file_data4 = np.loadtxt('ave_etot.out', usecols=(0,1,2,3))\n",
    "\n",
    "ekin = file_data2[:,2]\n",
    "epot = file_data3[:,2]\n",
    "etot = file_data4[:,2]\n",
    "temp = file_data[:,2]\n",
    "err = file_data[:,3]\n",
    "\n",
    "x = np.arange(nblk)\n",
    "#plt.errorbar(x,temp,yerr=err)\n",
    "#plt.plot(x,epot)\n",
    "#plt.plot(x,etot)\n",
    "#plt.title(' Gas: Temp')\n",
    "#plt.xlabel('iblk')\n",
    "#plt.legend(['Ekin','Epot','Etot'], loc='best')\n",
    "#plt.legend(['Temp'], loc='best')\n",
    "#plt.grid(True)\n",
    "#plt.savefig('Pictures_gas/Ave_Temp.png', dpi=300)\n",
    "#plt.show()\n"
   ]
  },
  {
   "cell_type": "markdown",
   "metadata": {},
   "source": [
    "# Solido $\\rho^* = 1.1$, $T^* = 0.8$, $r_c=2.2$\n",
    "In seguito, quando scriveremo rst intendiamo restart, per esempio con 10 rst ci riferiamo a 10 restart.  \n",
    "Nella fase di equilibrazione vengono riportati i grafici dei **valori istantanei** delle proprietà.  \n",
    "Nella fase di equilibrazione ci sono ancora le grandezze ridotte, invece nei grafici con le medie cumulative è stata fatta la conversione in SI.  \n",
    "## Fase di Equilibrazione\n",
    "\n",
    "<img src=\"./Pictures_solid/Temp_0rst.png\" alt=\"Drawing\" style=\"width: 500px;\"/>\n",
    "In figura si nota un importante drift iniziale che porta dal valore iniziale $T^*=0.8$ a un valore medio di circa $T^*=0.4$.\n",
    "<img src=\"./Pictures_solid/Temp_1rst.png\" alt=\"Drawing\" style=\"width: 500px;\"/>\n",
    "C'è ancora un drift ma la temperatura si stabilizza per un valore medio $T^*=0.4$.\n",
    "<img src=\"./Pictures_solid/Temp_5rst.png\" alt=\"Drawing\" style=\"width: 500px;\"/>\n",
    "Si può notare che qui il drift scompare e la temperatura oscilla attorno a un valore circa uguale a quello iniziale.\n",
    "\n",
    "Vediamo la stessa cosa dal punto di vista dell'energia\n",
    "<img src=\"./Pictures_solid/Confronto_0rst.png\" alt=\"Drawing\" style=\"width: 500px;\"/>\n",
    "Energia cinetica e Energia potenziale hanno un drift vistoso, mentre energia totale più leggero.\n",
    "<img src=\"./Pictures_solid/Confronto_5rst.png\" alt=\"Drawing\" style=\"width: 500px;\"/>\n",
    "Dopo cinque restart il drift iniziale scompare.  \n",
    "Un'ulteriore conferma di essere arrivati all'equilibrio si vede nel grafico dell'energia totale in funzione dell'indice di blocco, se questi valori sono compatibili allora l'energia è conservata e siamo all'equilibrio. \n",
    "## Proprietà: numero di blocchi 20, lunghezza blocco 1000\n",
    "Questi sono i grafici delle medie progressive in funzione dell'indice di blocco.\n",
    "<img src=\"./Pictures_solid/Ave_Epot.png\" alt=\"Drawing\" style=\"width: 500px;\"/>\n",
    "<img src=\"./Pictures_solid/Ave_Ekin.png\" alt=\"Drawing\" style=\"width: 500px;\"/>\n",
    "<img src=\"./Pictures_solid/Ave_Etot.png\" alt=\"Drawing\" style=\"width: 500px;\"/>\n",
    "<img src=\"./Pictures_solid/Ave_Temp.png\" alt=\"Drawing\" style=\"width: 500px;\"/>"
   ]
  },
  {
   "cell_type": "markdown",
   "metadata": {},
   "source": [
    "# Liquido $\\rho* = 0.8$, $T* = 1.1$, $r_c=2.5$\n",
    "## Fase di Equilibrazione\n",
    "<img src=\"./Pictures_liquid/Temp_0rst.png\" alt=\"Drawing\" style=\"width: 500px;\"/>\n",
    "<img src=\"./Pictures_liquid/Temp_1rst.png\" alt=\"Drawing\" style=\"width: 500px;\"/>\n",
    "<img src=\"./Pictures_liquid/Temp_4rst.png\" alt=\"Drawing\" style=\"width: 500px;\"/>\n",
    "Aumentando il numero di Restart il drift iniziale scompare.\n",
    "\n",
    "Vediamo dal punto di vista dell'energia\n",
    "<img src=\"./Pictures_liquid/Confronto_0rst.png\" alt=\"Drawing\" style=\"width: 500px;\"/>\n",
    "<img src=\"./Pictures_liquid/Confronto_4rst.png\" alt=\"Drawing\" style=\"width: 500px;\"/>\n",
    "Anche qui si vede che aumentando il numero di restart il drift iniziale scompare.\n",
    "## Proprietà: numero di blocchi 20, lunghezza blocco 1000\n",
    "Questi sono i grafici delle medie progressive in funzione dell'indice di blocco.\n",
    "<img src=\"./Pictures_liquid/Ave_Epot.png\" alt=\"Drawing\" style=\"width: 500px;\"/>\n",
    "<img src=\"./Pictures_liquid/Ave_Ekin.png\" alt=\"Drawing\" style=\"width: 500px;\"/>\n",
    "<img src=\"./Pictures_liquid/Ave_Etot.png\" alt=\"Drawing\" style=\"width: 500px;\"/>\n",
    "<img src=\"./Pictures_liquid/Ave_Temp.png\" alt=\"Drawing\" style=\"width: 500px;\"/>"
   ]
  },
  {
   "cell_type": "markdown",
   "metadata": {},
   "source": [
    "# Gas $\\rho* = 0.05$, $T* = 1.2$, $r_c=5.$\n",
    "## Fase di Equilibrazione\n",
    "<img src=\"./Pictures_gas/Temp_0rst.png\" alt=\"Drawing\" style=\"width: 500px;\"/>\n",
    "<img src=\"./Pictures_gas/Temp_1rst.png\" alt=\"Drawing\" style=\"width: 500px;\"/>\n",
    "<img src=\"./Pictures_gas/Temp_11rst.png\" alt=\"Drawing\" style=\"width: 500px;\"/>\n",
    "Aumentando il numero di Restart il drift iniziale scompare.\n",
    "\n",
    "Vediamo dal punto di vista dell'energia\n",
    "<img src=\"./Pictures_gas/Confronto_0rst.png\" alt=\"Drawing\" style=\"width: 500px;\"/>\n",
    "<img src=\"./Pictures_gas/Confronto_11rst.png\" alt=\"Drawing\" style=\"width: 500px;\"/>  \n",
    "Anche qui si vede che aumentando il numero di restart il drift iniziale scompare.  \n",
    "\n",
    "##  Proprietà: numero di blocchi 20, lunghezza blocco 1000\n",
    "Questi sono i grafici delle medie progressive in funzione dell'indice di blocco.\n",
    "<img src=\"./Pictures_gas/Ave_Epot.png\" alt=\"Drawing\" style=\"width: 500px;\"/>\n",
    "<img src=\"./Pictures_gas/Ave_Ekin.png\" alt=\"Drawing\" style=\"width: 500px;\"/>\n",
    "<img src=\"./Pictures_gas/Ave_Etot.png\" alt=\"Drawing\" style=\"width: 500px;\"/>\n",
    "<img src=\"./Pictures_gas/Ave_Temp.png\" alt=\"Drawing\" style=\"width: 500px;\"/>\n"
   ]
  }
 ],
 "metadata": {
  "kernelspec": {
   "display_name": "Python 3",
   "language": "python",
   "name": "python3"
  },
  "language_info": {
   "codemirror_mode": {
    "name": "ipython",
    "version": 3
   },
   "file_extension": ".py",
   "mimetype": "text/x-python",
   "name": "python",
   "nbconvert_exporter": "python",
   "pygments_lexer": "ipython3",
   "version": "3.7.6"
  }
 },
 "nbformat": 4,
 "nbformat_minor": 4
}
