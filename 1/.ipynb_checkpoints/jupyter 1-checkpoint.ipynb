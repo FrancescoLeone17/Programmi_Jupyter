{
 "cells": [
  {
   "cell_type": "markdown",
   "metadata": {},
   "source": [
    "# 1.1 \n",
    "## Test del generatore di numeri casuali\n",
    "## Spiegazione programma   1_1.cpp\n",
    "Il programma inizia con la lettura degli input dal file \"**1_1.in**\", poi ci sono \"two nested do loops\", il primo ciclo sui blocchi e il secondo sugli step interni al blocco.  \n",
    "A ogni passo del blocco c'è l'accumulo delle proprietà attraverso la funzione \"**Accumulate**\", alla fine di ogni blocco le proprietà vengono scritte usando la function \"**Averages**\".  \n",
    "Il programma fornisce 3 file di output:\n",
    "- \"**1_1r.out**\", dove si stima $<r>$\n",
    "- \"**1_1var.out**\", dove si stima $<(r - \\frac{1}{2})^2>$\n",
    "- \"**1_1chi.out**\", dove si stima $\\chi^2$\n",
    "\n",
    "Per compilare usare il Makefile. "
   ]
  },
  {
   "cell_type": "code",
   "execution_count": 1,
   "metadata": {},
   "outputs": [
    {
     "data": {
      "text/plain": [
       "\"\\nplt.errorbar(x,ave- 0.5,yerr=err)\\n#plt.title()\\nplt.xlim([0,150])\\nplt.ylabel('<(r-0.5)>')\\nplt.xlabel('blocco')\\nplt.grid(True)\\n#plt.savefig('./Pictures/<(r-0.5)>.png', dpi=300)\\nplt.show()\\n\""
      ]
     },
     "execution_count": 1,
     "metadata": {},
     "output_type": "execute_result"
    }
   ],
   "source": [
    "#Plotting script\n",
    "import numpy as np\n",
    "import matplotlib\n",
    "import matplotlib.pyplot as plt\n",
    "\n",
    "nblk = 150\n",
    "nstep = 10000\n",
    "M = 100\n",
    "\n",
    "ave = np.zeros(nblk)    #Media di blocco\n",
    "err = np.zeros(nblk)    #Quadrato della media di blocco\n",
    "file_data2 = np.loadtxt('1_1r.out', usecols=(2,3))\n",
    "ave = file_data2[:,0]\n",
    "err = file_data2[:,1]\n",
    "\n",
    "x = np.arange(nblk)\n",
    "\"\"\"\n",
    "plt.errorbar(x,ave- 0.5,yerr=err)\n",
    "#plt.title()\n",
    "plt.xlim([0,150])\n",
    "plt.ylabel('<(r-0.5)>')\n",
    "plt.xlabel('blocco')\n",
    "plt.grid(True)\n",
    "#plt.savefig('./Pictures/<(r-0.5)>.png', dpi=300)\n",
    "plt.show()\n",
    "\"\"\""
   ]
  },
  {
   "cell_type": "markdown",
   "metadata": {},
   "source": [
    "## Stima di $<r>$\n",
    "<img src=\"./Pictures/<(r-0.5)>.png\" alt=\"Drawing\" style=\"width: 500px;\"/>  \n",
    "Lunghezza di blocco = 10000  \n",
    "Il grafico sopra rappresenta la media cumulativa di $<r>$ in funzione del numero di blocco, inizialmente è compatibile con il valore vero per $2 \\sigma$, dopo 30 blocchi risulta compatibile in una $\\sigma$.  \n",
    "<img src=\"./Pictures/<(r-0.5)^2>.png\" alt=\"Drawing\" style=\"width: 500px;\"/>\n",
    "Lunghezza di blocco = 10000  \n",
    "Il grafico sopra rappresenta la media cumulativa di $<r>$ in funzione del numero di blocco, inizialmente è compatibile con il valore vero per $2 \\sigma$, dopo circa 70 blocchi risulta compatibile in un $\\sigma$.\n",
    "<img src=\"./Pictures/Chi.png\" alt=\"Drawing\" style=\"width: 500px;\"/>\n",
    "La $\\chi$ assume la maggior parte dei valori nell'intervallo $[80,120]$, dato che mi aspetto che $\\chi$ sia circa 100, posso concludere che l'ipotesi (che il generatore sia un generatore di numeri casuali) non è stata rigettata.\n",
    "\n",
    "Tutte e tre i grafici confermano che stiamo utilizzando un generatore di numeri casuali."
   ]
  },
  {
   "cell_type": "markdown",
   "metadata": {},
   "source": [
    "# 1.2\n",
    "## Verifica del Teorema del Limite Centrale\n",
    "## Spiegazione programma 1_2.cpp\n",
    "All'interno del main vengono chiamate tre funzioni:\n",
    "- Input: Inizializza random number.\n",
    "- Sample: Campiona la distribuzione uniforme tra 0 e 1, esponenziale e di Cauchy-Lorentz.\n",
    "- S: Calcola $S_N = \\frac{1}{N} \\sum_{i=1}^{N} x_i $ (con N =1,2,10,100) e lo scrive su file.  \n",
    "I file di output sono 4:  \n",
    "- \"**S_1**\" \n",
    "- \"**S_2**\"\n",
    "- \"**S_10**\"\n",
    "- \"**S_100**\"  \n",
    "Le prime $10^4$ righe di ogni file si riferiscono alla distribuzione uniforme tra 0 e 1, le successive $10^4$ alla esponenziale e le ultime $10^4$ alla distribuzione di Cauchy-Lorentz.\n"
   ]
  },
  {
   "cell_type": "code",
   "execution_count": 5,
   "metadata": {},
   "outputs": [
    {
     "data": {
      "image/png": "[encoded data removed]",
      "text/plain": [
       "<Figure size 432x288 with 4 Axes>"
      ]
     },
     "metadata": {
      "needs_background": "light"
     },
     "output_type": "display_data"
    }
   ],
   "source": [
    "# Plotting script\n",
    "from scipy.stats import norm\n",
    "from scipy.stats import cauchy\n",
    "\n",
    "N = 10000\n",
    "bin =   [-6,    -5.3334,    -4.6668,    -4.0002,    -3.3336,    -2.667,    -2.0004,   -1.3338,   -0.6672,    -0.0006,    0.666,    1.3326,    1.9992,    2.6658,    3.3324,    3.999,    4.6656,    5.3322,    5.9988]  \n",
    "file_data1 = np.loadtxt('S_1', usecols=(0))\n",
    "file_data2 = np.loadtxt('S_2', usecols=(0))\n",
    "file_data10 = np.loadtxt('S_10', usecols=(0))\n",
    "file_data100 = np.loadtxt('S_100', usecols=(0))\n",
    "S1 = np.zeros(N)\n",
    "S2 = np.zeros(N)\n",
    "S10 = np.zeros(N)\n",
    "S100 = np.zeros(N)\n",
    "\n",
    "for i in range(N):\n",
    "    S1[i] = file_data1[i+N+N]\n",
    "    S2[i] = file_data2[i+N+N]\n",
    "    S10[i] = file_data10[i+N+N]\n",
    "    S100[i] = file_data100[i+N+N]\n",
    "    \n",
    "plt.rcParams['axes.grid'] = True\n",
    "fig, axs = plt.subplots(2, 2)\n",
    "axs[0, 0].hist(S1, bins= bin, density=True, alpha=0.6, color='g',edgecolor='black', linewidth=1.5)\n",
    "axs[0, 0].set_title('S1')\n",
    "axs[0, 1].hist(S2, bins= bin, density=True, alpha=0.6, color='g',edgecolor='black', linewidth=1.5)\n",
    "axs[0, 1].set_title('S2')\n",
    "axs[1, 0].hist(S10, bins= bin, density=True, alpha=0.6, color='g',edgecolor='black', linewidth=1.5)\n",
    "axs[1, 0].set_title('S10')\n",
    "axs[1, 1].hist(S100, bins= bin, density=True, alpha=0.6, color='g',edgecolor='black', linewidth=1.5)\n",
    "axs[1, 1].set_title('S100')\n",
    "\n",
    "#Fit a gaussian with S100\n",
    "#mu, std = norm.fit(S100)\n",
    "loc, scale = cauchy.fit(S100)\n",
    "xmin, xmax = plt.xlim()\n",
    "x = np.linspace(xmin, xmax, 100)\n",
    "#p = norm.pdf(x, mu, std)\n",
    "p = cauchy.pdf(x, loc, scale)\n",
    "axs[1, 1].plot(x, p, 'k', linewidth=2)\n",
    "axs[1, 1].legend(['Fitted Cauchy','Histogram'], loc='upper right',fontsize = 'x-small')\n",
    "fig.tight_layout()\n",
    "\n",
    "#plt.plot(x, p, 'k', linewidth=2)\n",
    "#plt.savefig('./Pictures/Exp.png', dpi=300)\n",
    "#plt.savefig('./Pictures/Cauchy.png', dpi=300)\n"
   ]
  },
  {
   "cell_type": "markdown",
   "metadata": {},
   "source": [
    "## Grafici \n",
    "## Distribuzione uniforme tra 0 e 1  \n",
    "<img src=\"./Pictures/Uniform.png\" alt=\"Drawing\" style=\"width:500px;\"/>  \n",
    "## Distribuzione esponenziale\n",
    "<img src=\"./Pictures/Exp.png\" alt=\"Drawing\" style=\"width: 500px;\"/>  \n",
    "\n",
    "##  Distribuzione di Cauchy-Lorentz \n",
    "\n",
    "<img src=\"./Pictures/Cauchy.png\" alt=\"Drawing\" style=\"width: 500px;\"/>"
   ]
  },
  {
   "cell_type": "markdown",
   "metadata": {},
   "source": [
    "# 1.3\n",
    "## Esperimento di Buffon\n",
    "## Spiegazione programma 1_3.cpp\n",
    "Il programma inizia con la lettura del file di input **\"3.in\"**, poi ci sono  \"two nested do loops\", il primo ciclo sui blocchi e il secondo sugli step interni al blocco.\n",
    "A ogni step del blocco avviene il campionamento attraverso la funzione **Sample**.\n",
    "<img src=\"./Pictures/needle.png\" alt=\"Drawing\" style=\"width: 500px;\"/>\n",
    "Viene campionata **y_c**, coordinata y del centro dell'ago, e $\\teta$ con la tecnica della rejection (nel programma chiamato teta), l'angolo rispetto l'orizzontale.\n",
    "Successivamente, se $y_c > \\frac{l}{2} sin(\\teta)$, l'ago colpisce la linea orizzontale e  c'è l'accumulo.  \n",
    "Infine, le medie di blocco e cumulative vengono calcolate in **Averages** e scritte sull'unico file di output **\"3Pi.out\"**."
   ]
  },
  {
   "cell_type": "code",
   "execution_count": 11,
   "metadata": {},
   "outputs": [
    {
     "data": {
      "text/plain": [
       "\"\\nx = np.arange(nblk)\\np = np.pi #Pigreco\\nplt.errorbar(x,ave-p,yerr=err)\\nplt.title('$Pi$: l=0.05, d=0.1')\\nplt.ylabel('$\\\\pi_{s}$ - $\\\\pi$')\\nplt.xlabel('blocco')\\nplt.grid(True)\\nplt.savefig('./Pictures/Pi.png', dpi=300)\\nplt.show()\\n\""
      ]
     },
     "execution_count": 11,
     "metadata": {},
     "output_type": "execute_result"
    }
   ],
   "source": [
    "#Plotting script\n",
    "nblk = 150\n",
    "\n",
    "ave = np.zeros(nblk)    #Media di blocco\n",
    "err = np.zeros(nblk)    #Quadrato della media di blocco\n",
    "file_data2 = np.loadtxt('3Pi.out', usecols=(0,1,2,3))\n",
    "ave = file_data2[:,2]\n",
    "err = file_data2[:,3]\n",
    "\n",
    "\"\"\"\n",
    "x = np.arange(nblk)\n",
    "p = np.pi #Pigreco\n",
    "plt.errorbar(x,ave-p,yerr=err)\n",
    "plt.title('$Pi$: l=0.05, d=0.1')\n",
    "plt.ylabel('$\\pi_{s}$ - $\\pi$')\n",
    "plt.xlabel('blocco')\n",
    "plt.grid(True)\n",
    "plt.savefig('./Pictures/Pi.png', dpi=300)\n",
    "plt.show()\n",
    "\"\"\""
   ]
  },
  {
   "cell_type": "markdown",
   "metadata": {},
   "source": [
    "<img src=\"./Pictures/Pi.png\" alt=\"Drawing\" style=\"width: 500px;\"/>\n",
    "Per $\\pi_s$ si intende il valore stimato dal programma \"3.cpp\" mentre per $\\pi$ il valore di pigrego nella libreria numpy.   \n",
    "\n",
    "La lunghezza dei blocchi è di 10000."
   ]
  }
 ],
 "metadata": {
  "kernelspec": {
   "display_name": "Python 3",
   "language": "python",
   "name": "python3"
  },
  "language_info": {
   "codemirror_mode": {
    "name": "ipython",
    "version": 3
   },
   "file_extension": ".py",
   "mimetype": "text/x-python",
   "name": "python",
   "nbconvert_exporter": "python",
   "pygments_lexer": "ipython3",
   "version": "3.7.6"
  }
 },
 "nbformat": 4,
 "nbformat_minor": 4
}
