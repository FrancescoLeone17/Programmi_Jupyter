{
 "cells": [
  {
   "cell_type": "markdown",
   "metadata": {},
   "source": [
    "# Programma \n",
    "## Calcolo del European call-option price e put-option price a t = 0 via MonteCarlo simulation\n",
    "## Spiegazione programma 1.cpp\n",
    "Nel main del programma avviene la lettura dell'input dal file **\"1.in\"**, dove oltre a lunghezza di blocco e numero di step, c'è la lettura del numero di intervalli per sampling discreto.   \n",
    "Il programma è costituito da un two nested do loops uno sui blocchi e un altro sugli step all'interno del blocco.   \n",
    "Ad ogni step di blocco viene chiamata la routine **\"Accumulate\"**, in cui avviene il **campionamento diretto e discreto e il loro accumulo**.  \n",
    "Successivamente, in **\"Averages\"** le medie vengono scritte su file, gli output sono 4:\n",
    "- \"C_dir.out\"\n",
    "- \"C_discr.out\"\n",
    "- \"P_dir.out\"\n",
    "- \"P_discr.out\" \n",
    "\n",
    "dove   \n",
    "- P si riferisce a put-option price a t = 0\n",
    "- C si riferisce a call-option price a t = 0\n",
    "- dir si riferisce al sampling diretto\n",
    "- discr si riferisce al sampling discreto"
   ]
  },
  {
   "cell_type": "code",
   "execution_count": 4,
   "metadata": {},
   "outputs": [
    {
     "data": {
      "text/plain": [
       "\"\\nx = np.arange(nblk)\\nplt.errorbar(x,ave-14.975790778311286,yerr=err)\\nplt.title('Campionamento diretto: Lunghezza blocco=10000')\\nplt.ylabel('C-14.975')\\nplt.xlabel('iblk')\\nplt.grid(True)\\n#plt.savefig('./Pictures/C_dir.png', dpi=300)\\nplt.show()\\n\""
      ]
     },
     "execution_count": 4,
     "metadata": {},
     "output_type": "execute_result"
    }
   ],
   "source": [
    "import numpy as np\n",
    "import matplotlib\n",
    "import matplotlib.pyplot as plt\n",
    "\n",
    "nblk = 150\n",
    "\n",
    "ave = np.zeros(nblk)    #Media di blocco\n",
    "err = np.zeros(nblk)    #Quadrato della media di blocco\n",
    "file_data = np.loadtxt('C_dir.out', usecols=(0,1,2,3))\n",
    "ave = file_data[:,2]\n",
    "err = file_data[:,3]\n",
    "\n",
    "\"\"\"\n",
    "x = np.arange(nblk)\n",
    "plt.errorbar(x,ave-14.975790778311286,yerr=err)\n",
    "plt.title('Campionamento diretto: Lunghezza blocco=10000')\n",
    "plt.ylabel('C-14.975')\n",
    "plt.xlabel('iblk')\n",
    "plt.grid(True)\n",
    "#plt.savefig('./Pictures/C_dir.png', dpi=300)\n",
    "plt.show()\n",
    "\"\"\""
   ]
  },
  {
   "cell_type": "markdown",
   "metadata": {},
   "source": [
    "# Grafici\n",
    "## Call-option price\n",
    "<img src=\"./Pictures/C_dir.png\" alt=\"Drawing\" style=\"width: 500px;\"/> \n",
    "<img src=\"./Pictures/C_discr.png\" alt=\"Drawing\" style=\"width: 500px;\"/> \n",
    "In entrambi i grafici si mostra la C stimata meno il suo valore vero in funzione dell'indice di blocco.\n",
    "## Put-option price\n",
    "<img src=\"./Pictures/P_dir.png\" alt=\"Drawing\" style=\"width: 500px;\"/> \n",
    "<img src=\"./Pictures/P_discr.png\" alt=\"Drawing\" style=\"width: 500px;\"/> \n",
    "In entrambi i grafici si mostra la P stimata meno il suo valore vero in funzione dell'indice di blocco.\n",
    "\n",
    "\n",
    "In entrambi i casi, risulta più preciso il risultato ottenuto con campionamento discreto, dato che raggiunge in meno blocchi il valore vero delle grandezze"
   ]
  }
 ],
 "metadata": {
  "kernelspec": {
   "display_name": "Python 3",
   "language": "python",
   "name": "python3"
  },
  "language_info": {
   "codemirror_mode": {
    "name": "ipython",
    "version": 3
   },
   "file_extension": ".py",
   "mimetype": "text/x-python",
   "name": "python",
   "nbconvert_exporter": "python",
   "pygments_lexer": "ipython3",
   "version": "3.7.6"
  }
 },
 "nbformat": 4,
 "nbformat_minor": 4
}
